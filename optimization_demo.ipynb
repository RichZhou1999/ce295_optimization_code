{
 "cells": [
  {
   "cell_type": "code",
   "execution_count": 1,
   "id": "dd30986d",
   "metadata": {},
   "outputs": [],
   "source": [
    "import numpy as np\n",
    "import matplotlib.pyplot as plt\n",
    "import cvxpy as cp\n",
    "%matplotlib inline\n",
    "import pandas as pd"
   ]
  },
  {
   "cell_type": "code",
   "execution_count": 2,
   "id": "b2d3fa07",
   "metadata": {},
   "outputs": [],
   "source": [
    "voltage = 400 #nominal_voltage\n",
    "battery_volumn = 60 * 1000 / 400 # Q = kWh / v\n",
    "emission_max_value = 100\n",
    "start_soc = 0.5\n",
    "end_soc = 0.7\n",
    "target_charge_volumn = (end_soc - start_soc) *battery_volumn\n",
    "Power = 10 * 1000 # power of the charger\n",
    "I_max = Power  / voltage\n",
    "R = 10 # resistant\n",
    "Power_limit = 100 * 1000 # simple assumption to the limit of the power: 100 kw\n",
    "Power_limit_slope_line_Intercept = 100 * 1000 # simple assumption to the limit of the power(the sloped line): 100 kw"
   ]
  },
  {
   "cell_type": "code",
   "execution_count": 3,
   "id": "886fb804",
   "metadata": {},
   "outputs": [],
   "source": [
    "step = 1/6 # 10(min)/ 60(min)"
   ]
  },
  {
   "cell_type": "code",
   "execution_count": 4,
   "id": "b7fffb70",
   "metadata": {},
   "outputs": [],
   "source": [
    "maximum_steps = 24 / step # 24 hours divided by step"
   ]
  },
  {
   "cell_type": "code",
   "execution_count": 5,
   "id": "f2dae6f7",
   "metadata": {},
   "outputs": [],
   "source": [
    "x = np.linspace(0, int(maximum_steps), int(maximum_steps+1))\n",
    "emission_array = emission_max_value/((maximum_steps/2)**2) * (x-(maximum_steps/2))**2"
   ]
  },
  {
   "cell_type": "code",
   "execution_count": 6,
   "id": "de5cf39e",
   "metadata": {},
   "outputs": [
    {
     "name": "stderr",
     "output_type": "stream",
     "text": [
      "/Users/rich1999/opt/anaconda3/lib/python3.9/site-packages/cvxpy/expressions/expression.py:612: UserWarning: \n",
      "This use of ``*`` has resulted in matrix multiplication.\n",
      "Using ``*`` for matrix multiplication has been deprecated since CVXPY 1.1.\n",
      "    Use ``*`` for matrix-scalar and vector-scalar multiplication.\n",
      "    Use ``@`` for matrix-matrix and matrix-vector multiplication.\n",
      "    Use ``multiply`` for elementwise multiplication.\n",
      "This code path has been hit 1 times so far.\n",
      "\n",
      "  warnings.warn(msg, UserWarning)\n"
     ]
    },
    {
     "name": "stdout",
     "output_type": "stream",
     "text": [
      "7129.629629692734\n",
      "[0, 0, 0, 0, 0, 0, 0, 0, 0, 0, 0, 0, 0, 0, 0, 0, 0, 0, 0, 0, 0, 0, 0, 0, 0, 0, 0, 0, 0, 0, 0, 0, 0, 0, 0, 0, 0, 0, 0, 0, 0, 0, 0, 0, 0, 0, 0, 0, 0, 0, 0, 0, 0, 0, 0, 0, 0, 0, 0, 0, 0, 0, 0, 0, 0, 0, 0, 0, 2659.432776982918, 9999.999999986643, 9999.999999997068, 9999.999999996617, 9999.999999996633, 9999.999999996495, 9999.999999995813, 9999.999999995815, 2940.5672229852175, 0, 0, 0, 0, 0, 0, 0, 0, 0, 0, 0, 0, 0, 0, 0, 0, 0, 0, 0, 0, 0, 0, 0, 0, 0, 0, 0, 0, 0, 0, 0, 0, 0, 0, 0, 0, 0, 0, 0, 0, 0, 0, 0, 0, 0, 0, 0, 0, 0, 0, 0, 0, 0, 0, 0, 0, 0, 0, 0, 0, 0, 0, 0, 0, 0, 0, 0, 0]\n"
     ]
    }
   ],
   "source": [
    "current_state = cp.Variable(int(maximum_steps+1),'current at each step')\n",
    "P = cp.Variable(int(maximum_steps+1),'power of the charger at each step')\n",
    "soc = cp.Variable(int(maximum_steps+1),\"state of charge\")\n",
    "voltage = cp.Variable(int(maximum_steps+1),\"voltage\")\n",
    "\n",
    "\n",
    "objective = cp.Minimize( cp.sum(P*emission_array))\n",
    "constraints = []\n",
    "\n",
    "# constraint on voltage\n",
    "for i in range(0,int(maximum_steps+1)):\n",
    "    constraints += [voltage[i] == 400]\n",
    "\n",
    "# constraint on the relationship between I and P\n",
    "for i in range(0,int(maximum_steps+1)):\n",
    "    constraints += [P[i] == 2*R*current_state[i] + 400 * current_state[i]]\n",
    "\n",
    "constraints += [soc[0] == start_soc]\n",
    "\n",
    "# SOC update formula\n",
    "for i in range(1,int(maximum_steps+1)):\n",
    "    constraints += [soc[i] == soc[i-1] +current_state[i-1]*step/ battery_volumn]\n",
    "\n",
    "# Second part of power limit (inclined line)\n",
    "for i in range(0,int(maximum_steps+1)):\n",
    "    constraints += [P[i] <= Power_limit_slope_line_Intercept*(1- soc[i])] \n",
    "# first part of power limit (straight line)\n",
    "for i in range(0,int(maximum_steps+1)):\n",
    "    constraints += [P[i] <= Power_limit] \n",
    "\n",
    "constraints += [ cp.sum(current_state)*step >= (target_charge_volumn)]\n",
    "constraints += [P <= Power]\n",
    "constraints += [P >= 0]\n",
    "\n",
    "problem = cp.Problem(objective, constraints)\n",
    "result = problem.solve()\n",
    "print(result)\n",
    "P_values = P.value\n",
    "P_values = [value if value>=1 else 0 for value in P_values ]\n",
    "print(P_values)"
   ]
  },
  {
   "cell_type": "code",
   "execution_count": null,
   "id": "fe948788",
   "metadata": {},
   "outputs": [],
   "source": []
  },
  {
   "cell_type": "code",
   "execution_count": null,
   "id": "4d19488a",
   "metadata": {},
   "outputs": [],
   "source": []
  }
 ],
 "metadata": {
  "kernelspec": {
   "display_name": "Python 3 (ipykernel)",
   "language": "python",
   "name": "python3"
  },
  "language_info": {
   "codemirror_mode": {
    "name": "ipython",
    "version": 3
   },
   "file_extension": ".py",
   "mimetype": "text/x-python",
   "name": "python",
   "nbconvert_exporter": "python",
   "pygments_lexer": "ipython3",
   "version": "3.9.13"
  }
 },
 "nbformat": 4,
 "nbformat_minor": 5
}
